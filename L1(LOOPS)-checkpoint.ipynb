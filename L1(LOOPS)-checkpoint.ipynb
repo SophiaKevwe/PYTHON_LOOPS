{
 "cells": [
  {
   "cell_type": "markdown",
   "id": "02db2d91",
   "metadata": {},
   "source": [
    "LOOPS\n"
   ]
  },
  {
   "cell_type": "code",
   "execution_count": 8,
   "id": "7d6b925d",
   "metadata": {},
   "outputs": [
    {
     "name": "stdout",
     "output_type": "stream",
     "text": [
      "Hello World\n",
      "Hello World\n",
      "Hello World\n",
      "Hello World\n",
      "Hello World\n"
     ]
    }
   ],
   "source": [
    "spam = 0\n",
    "while spam < 5:\n",
    "    print(\"Hello World\")\n",
    "    spam = spam + 1\n"
   ]
  },
  {
   "cell_type": "code",
   "execution_count": 14,
   "id": "7ed4552f",
   "metadata": {},
   "outputs": [
    {
     "name": "stdout",
     "output_type": "stream",
     "text": [
      "Hello World\n",
      "0\n",
      "Hello World\n",
      "1\n",
      "Hello World\n",
      "2\n",
      "Hello World\n",
      "3\n",
      "Hello World\n",
      "4\n",
      "[1, 3, 5, 7, 9]\n"
     ]
    }
   ],
   "source": [
    "spam = \"Hello World\"\n",
    "for i in range (5):\n",
    "    print(spam)\n",
    "    print(i)\n",
    "odd = list(range(1,10,2))\n",
    "for x in odd"
   ]
  },
  {
   "cell_type": "code",
   "execution_count": 17,
   "id": "9ec04132",
   "metadata": {},
   "outputs": [
    {
     "name": "stdout",
     "output_type": "stream",
     "text": [
      "50.0\n",
      "49.0\n"
     ]
    }
   ],
   "source": [
    "odd = list(range(1,100,2))\n",
    "b = sum(odd)\n",
    "avg= b/len(odd)\n",
    "print (avg)\n",
    "even = list(range(0,100,2))\n",
    "c = sum(even)\n",
    "avgg= c/len(odd)\n",
    "print (avgg)"
   ]
  },
  {
   "cell_type": "code",
   "execution_count": 26,
   "id": "76ccfca8",
   "metadata": {},
   "outputs": [
    {
     "name": "stdout",
     "output_type": "stream",
     "text": [
      "50.0\n"
     ]
    }
   ],
   "source": [
    "odd = list(range(1,100,2))  \n",
    "summ = 0\n",
    "for x in odd: \n",
    "    summ = summ + x\n",
    "    avggg = summ/len(odd)\n",
    "print(avggg)"
   ]
  },
  {
   "cell_type": "code",
   "execution_count": 22,
   "id": "b3b9271d",
   "metadata": {},
   "outputs": [
    {
     "name": "stdout",
     "output_type": "stream",
     "text": [
      "[5, 4, 3, 2, 1]\n"
     ]
    }
   ],
   "source": [
    "countdown = list(range(5,0,-1))  \n",
    "print (countdown)"
   ]
  },
  {
   "cell_type": "code",
   "execution_count": 23,
   "id": "f60f20d1",
   "metadata": {},
   "outputs": [
    {
     "name": "stdout",
     "output_type": "stream",
     "text": [
      "Please type your name\n",
      "KEVWD\\\n",
      "Please type your name\n",
      "KEVWE\n",
      "Thank you!\n"
     ]
    }
   ],
   "source": [
    "while True:\n",
    "    print(\"Please type your name\")\n",
    "    name = input()\n",
    "    if name  == \"KEVWE\":\n",
    "        break\n",
    "print(\"Thank you!\")"
   ]
  },
  {
   "cell_type": "code",
   "execution_count": 27,
   "id": "1c914f23",
   "metadata": {},
   "outputs": [
    {
     "name": "stdout",
     "output_type": "stream",
     "text": [
      "Who are you?\n",
      "Kevwe\n",
      "Who are you?\n",
      "Joe\n",
      "Hello, Joe. What is the password?\n",
      "Fish\n",
      "Who are you?\n",
      "Joe\n",
      "Hello, Joe. What is the password?\n",
      "Swordfish\n",
      "ACCCESS GRANTED!\n"
     ]
    }
   ],
   "source": [
    "while True:\n",
    "    print(\"Who are you?\")\n",
    "    name = input()\n",
    "    if name != \"Joe\" :\n",
    "        continue\n",
    "    print(\"Hello, Joe. What is the password?\")\n",
    "    password = input()\n",
    "    if password == \"Swordfish\":\n",
    "        break\n",
    "print(\"ACCCESS GRANTED!\")"
   ]
  },
  {
   "cell_type": "code",
   "execution_count": 1,
   "id": "099010a2",
   "metadata": {},
   "outputs": [
    {
     "name": "stdout",
     "output_type": "stream",
     "text": [
      "\n",
      "*\n",
      "**\n",
      "***\n",
      "****\n",
      "*****\n",
      "******\n",
      "*******\n",
      "********\n",
      "*********\n"
     ]
    }
   ],
   "source": [
    "for i in range(10):\n",
    "    ast= \"*\"\n",
    "    print(ast*i)"
   ]
  },
  {
   "cell_type": "code",
   "execution_count": 3,
   "id": "830de43b",
   "metadata": {},
   "outputs": [
    {
     "name": "stdout",
     "output_type": "stream",
     "text": [
      "\n",
      "*\n",
      "**\n",
      "***\n",
      "****\n",
      "*****\n",
      "******\n",
      "*******\n",
      "********\n",
      "*********\n",
      "**********\n"
     ]
    }
   ],
   "source": [
    "i=0\n",
    "while i < 11:\n",
    "    ast = \"*\"\n",
    "    print(ast*i) \n",
    "    i=i+1\n"
   ]
  },
  {
   "cell_type": "code",
   "execution_count": 69,
   "id": "6ec2f294",
   "metadata": {},
   "outputs": [
    {
     "name": "stdout",
     "output_type": "stream",
     "text": [
      "          *\n",
      "         ***\n",
      "        *****\n",
      "       *******\n",
      "      *********\n",
      "     ***********\n",
      "    *************\n",
      "   ***************\n",
      "  *****************\n",
      " *******************\n",
      "         | |\n",
      "         | |\n",
      "       *******\n"
     ]
    }
   ],
   "source": [
    "j=10\n",
    "for i in range(1,20,2):\n",
    "    print(j*\" \"+ i*\"*\")\n",
    "    j=j-1\n",
    "for k in range(2):\n",
    "    print(\"         | |\")\n",
    "print(\"       *******\")"
   ]
  },
  {
   "cell_type": "code",
   "execution_count": null,
   "id": "585eeb08",
   "metadata": {},
   "outputs": [],
   "source": []
  }
 ],
 "metadata": {
  "kernelspec": {
   "display_name": "Python 3",
   "language": "python",
   "name": "python3"
  },
  "language_info": {
   "codemirror_mode": {
    "name": "ipython",
    "version": 3
   },
   "file_extension": ".py",
   "mimetype": "text/x-python",
   "name": "python",
   "nbconvert_exporter": "python",
   "pygments_lexer": "ipython3",
   "version": "3.8.8"
  }
 },
 "nbformat": 4,
 "nbformat_minor": 5
}
